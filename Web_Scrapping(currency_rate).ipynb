{
 "cells": [
  {
   "cell_type": "code",
   "execution_count": 1,
   "metadata": {},
   "outputs": [
    {
     "name": "stderr",
     "output_type": "stream",
     "text": [
      "C:\\Users\\reaso\\anaconda3\\lib\\site-packages\\bs4\\__init__.py:417: MarkupResemblesLocatorWarning: \"https://www.hamropatro.com/forex\" looks like a URL. Beautiful Soup is not an HTTP client. You should probably use an HTTP client like requests to get the document behind the URL, and feed that document to Beautiful Soup.\n",
      "  warnings.warn(\n"
     ]
    },
    {
     "data": {
      "text/plain": [
       "https://www.hamropatro.com/forex"
      ]
     },
     "execution_count": 1,
     "metadata": {},
     "output_type": "execute_result"
    }
   ],
   "source": [
    "from bs4 import BeautifulSoup\n",
    "url = BeautifulSoup('https://www.hamropatro.com/forex', 'html.parser')\n",
    "url"
   ]
  },
  {
   "cell_type": "code",
   "execution_count": 2,
   "metadata": {},
   "outputs": [
    {
     "data": {
      "text/plain": [
       "<Response [200]>"
      ]
     },
     "execution_count": 2,
     "metadata": {},
     "output_type": "execute_result"
    }
   ],
   "source": [
    "import requests\n",
    "response = requests.get(url)\n",
    "response"
   ]
  },
  {
   "cell_type": "code",
   "execution_count": 3,
   "metadata": {},
   "outputs": [],
   "source": [
    "text = response.text\n",
    "soup = BeautifulSoup(text, \"lxml\")"
   ]
  },
  {
   "cell_type": "code",
   "execution_count": 4,
   "metadata": {
    "scrolled": false
   },
   "outputs": [
    {
     "data": {
      "text/plain": [
       "[<li class=\"col1\" id=\"title\">Currency</li>,\n",
       " <li class=\"col1\" onclick=\"$('.forexchart').hide();$('#Indian_Rupee_100').show();\" style=\"cursor:pointer;\">Indian Rupee (100)</li>,\n",
       " <li class=\"col1\" onclick=\"$('.forexchart').hide();$('#US_dollar').show();\" style=\"cursor:pointer;\">U.S. dollar</li>,\n",
       " <li class=\"col1\" onclick=\"$('.forexchart').hide();$('#European_euro').show();\" style=\"cursor:pointer;\">European euro</li>,\n",
       " <li class=\"col1\" onclick=\"$('.forexchart').hide();$('#UK_pound_sterling').show();\" style=\"cursor:pointer;\">UK pound sterling</li>,\n",
       " <li class=\"col1\" onclick=\"$('.forexchart').hide();$('#Swiss_franc').show();\" style=\"cursor:pointer;\">Swiss franc</li>,\n",
       " <li class=\"col1\" onclick=\"$('.forexchart').hide();$('#Australian_dollar').show();\" style=\"cursor:pointer;\">Australian dollar</li>,\n",
       " <li class=\"col1\" onclick=\"$('.forexchart').hide();$('#Canadian_dollar').show();\" style=\"cursor:pointer;\">Canadian dollar</li>,\n",
       " <li class=\"col1\" onclick=\"$('.forexchart').hide();$('#Singapore_dollar').show();\" style=\"cursor:pointer;\">Singapore dollar</li>,\n",
       " <li class=\"col1\" onclick=\"$('.forexchart').hide();$('#Japanese_yen_10').show();\" style=\"cursor:pointer;\">Japanese yen (10)</li>,\n",
       " <li class=\"col1\" onclick=\"$('.forexchart').hide();$('#Chinese_renminbi_Yuan').show();\" style=\"cursor:pointer;\">Chinese renminbi (Yuan)</li>,\n",
       " <li class=\"col1\" onclick=\"$('.forexchart').hide();$('#Saudi_Arabian_riyal').show();\" style=\"cursor:pointer;\">Saudi Arabian riyal</li>,\n",
       " <li class=\"col1\" onclick=\"$('.forexchart').hide();$('#Qatari_riyal').show();\" style=\"cursor:pointer;\">Qatari riyal</li>,\n",
       " <li class=\"col1\" onclick=\"$('.forexchart').hide();$('#Thai_baht').show();\" style=\"cursor:pointer;\">Thai baht</li>,\n",
       " <li class=\"col1\" onclick=\"$('.forexchart').hide();$('#UAE_Dirham').show();\" style=\"cursor:pointer;\">UAE Dirham</li>,\n",
       " <li class=\"col1\" onclick=\"$('.forexchart').hide();$('#Malaysian_ringgit').show();\" style=\"cursor:pointer;\">Malaysian ringgit</li>,\n",
       " <li class=\"col1\" onclick=\"$('.forexchart').hide();$('#Korean_Won_100').show();\" style=\"cursor:pointer;\">Korean Won (100)</li>,\n",
       " <li class=\"col1\" onclick=\"$('.forexchart').hide();$('#Swedish_Krone').show();\" style=\"cursor:pointer;\">Swedish Krone</li>,\n",
       " <li class=\"col1\" onclick=\"$('.forexchart').hide();$('#Danish_Krone').show();\" style=\"cursor:pointer;\">Danish Krone</li>,\n",
       " <li class=\"col1\" onclick=\"$('.forexchart').hide();$('#Hong_Kong_dollar').show();\" style=\"cursor:pointer;\">Hong Kong dollar</li>,\n",
       " <li class=\"col1\" onclick=\"$('.forexchart').hide();$('#Kuwaity_Dinar').show();\" style=\"cursor:pointer;\">Kuwaity Dinar</li>,\n",
       " <li class=\"col1\" onclick=\"$('.forexchart').hide();$('#Bahrain_Dinar').show();\" style=\"cursor:pointer;\">Bahrain Dinar</li>]"
      ]
     },
     "execution_count": 4,
     "metadata": {},
     "output_type": "execute_result"
    }
   ],
   "source": [
    "table = soup.find_all(\"li\", \"col1\")\n",
    "table"
   ]
  },
  {
   "cell_type": "code",
   "execution_count": 5,
   "metadata": {},
   "outputs": [
    {
     "data": {
      "text/plain": [
       "[<li class=\"col2\" id=\"title\">Buy</li>,\n",
       " <li class=\"col2\" onclick=\"$('.forexchart').hide();$('#Indian_Rupee_100').show();\" style=\"cursor:pointer;\">160</li>,\n",
       " <li class=\"col2\" onclick=\"$('.forexchart').hide();$('#US_dollar').show();\" style=\"cursor:pointer;\">116.24</li>,\n",
       " <li class=\"col2\" onclick=\"$('.forexchart').hide();$('#European_euro').show();\" style=\"cursor:pointer;\">139.96</li>,\n",
       " <li class=\"col2\" onclick=\"$('.forexchart').hide();$('#UK_pound_sterling').show();\" style=\"cursor:pointer;\">161.95</li>,\n",
       " <li class=\"col2\" onclick=\"$('.forexchart').hide();$('#Swiss_franc').show();\" style=\"cursor:pointer;\">126.04</li>,\n",
       " <li class=\"col2\" onclick=\"$('.forexchart').hide();$('#Australian_dollar').show();\" style=\"cursor:pointer;\">90.35</li>,\n",
       " <li class=\"col2\" onclick=\"$('.forexchart').hide();$('#Canadian_dollar').show();\" style=\"cursor:pointer;\">91.84</li>,\n",
       " <li class=\"col2\" onclick=\"$('.forexchart').hide();$('#Singapore_dollar').show();\" style=\"cursor:pointer;\">87.24</li>,\n",
       " <li class=\"col2\" onclick=\"$('.forexchart').hide();$('#Japanese_yen_10').show();\" style=\"cursor:pointer;\">10.83</li>,\n",
       " <li class=\"col2\" onclick=\"$('.forexchart').hide();$('#Chinese_renminbi_Yuan').show();\" style=\"cursor:pointer;\">17.97</li>,\n",
       " <li class=\"col2\" onclick=\"$('.forexchart').hide();$('#Saudi_Arabian_riyal').show();\" style=\"cursor:pointer;\">30.98</li>,\n",
       " <li class=\"col2\" onclick=\"$('.forexchart').hide();$('#Qatari_riyal').show();\" style=\"cursor:pointer;\">31.92</li>,\n",
       " <li class=\"col2\" onclick=\"$('.forexchart').hide();$('#Thai_baht').show();\" style=\"cursor:pointer;\">3.83</li>,\n",
       " <li class=\"col2\" onclick=\"$('.forexchart').hide();$('#UAE_Dirham').show();\" style=\"cursor:pointer;\">31.65</li>,\n",
       " <li class=\"col2\" onclick=\"$('.forexchart').hide();$('#Malaysian_ringgit').show();\" style=\"cursor:pointer;\">28.65</li>,\n",
       " <li class=\"col2\" onclick=\"$('.forexchart').hide();$('#Korean_Won_100').show();\" style=\"cursor:pointer;\">10.33</li>,\n",
       " <li class=\"col2\" onclick=\"$('.forexchart').hide();$('#Swedish_Krone').show();\" style=\"cursor:pointer;\">13.76</li>,\n",
       " <li class=\"col2\" onclick=\"$('.forexchart').hide();$('#Danish_Krone').show();\" style=\"cursor:pointer;\">18.82</li>,\n",
       " <li class=\"col2\" onclick=\"$('.forexchart').hide();$('#Hong_Kong_dollar').show();\" style=\"cursor:pointer;\">14.98</li>,\n",
       " <li class=\"col2\" onclick=\"$('.forexchart').hide();$('#Kuwaity_Dinar').show();\" style=\"cursor:pointer;\">384.12</li>,\n",
       " <li class=\"col2\" onclick=\"$('.forexchart').hide();$('#Bahrain_Dinar').show();\" style=\"cursor:pointer;\">308.23</li>]"
      ]
     },
     "execution_count": 5,
     "metadata": {},
     "output_type": "execute_result"
    }
   ],
   "source": [
    "table1 = soup.find_all(\"li\", \"col2\")\n",
    "table1"
   ]
  },
  {
   "cell_type": "code",
   "execution_count": 6,
   "metadata": {},
   "outputs": [
    {
     "data": {
      "text/plain": [
       "[<li class=\"col3\" id=\"title\">Sell</li>,\n",
       " <li class=\"col3\" onclick=\"$('.forexchart').hide();$('#Indian_Rupee_100').show();\" style=\"cursor:pointer;\">160.15</li>,\n",
       " <li class=\"col3\" onclick=\"$('.forexchart').hide();$('#US_dollar').show();\" style=\"cursor:pointer;\">116.84</li>,\n",
       " <li class=\"col3\" onclick=\"$('.forexchart').hide();$('#European_euro').show();\" style=\"cursor:pointer;\">140.69</li>,\n",
       " <li class=\"col3\" onclick=\"$('.forexchart').hide();$('#UK_pound_sterling').show();\" style=\"cursor:pointer;\">162.78</li>,\n",
       " <li class=\"col3\" onclick=\"$('.forexchart').hide();$('#Swiss_franc').show();\" style=\"cursor:pointer;\">126.69</li>,\n",
       " <li class=\"col3\" onclick=\"$('.forexchart').hide();$('#Australian_dollar').show();\" style=\"cursor:pointer;\">90.82</li>,\n",
       " <li class=\"col3\" onclick=\"$('.forexchart').hide();$('#Canadian_dollar').show();\" style=\"cursor:pointer;\">92.31</li>,\n",
       " <li class=\"col3\" onclick=\"$('.forexchart').hide();$('#Singapore_dollar').show();\" style=\"cursor:pointer;\">87.69</li>,\n",
       " <li class=\"col3\" onclick=\"$('.forexchart').hide();$('#Japanese_yen_10').show();\" style=\"cursor:pointer;\">10.89</li>,\n",
       " <li class=\"col3\" onclick=\"$('.forexchart').hide();$('#Chinese_renminbi_Yuan').show();\" style=\"cursor:pointer;\">18.06</li>,\n",
       " <li class=\"col3\" onclick=\"$('.forexchart').hide();$('#Saudi_Arabian_riyal').show();\" style=\"cursor:pointer;\">31.14</li>,\n",
       " <li class=\"col3\" onclick=\"$('.forexchart').hide();$('#Qatari_riyal').show();\" style=\"cursor:pointer;\">32.09</li>,\n",
       " <li class=\"col3\" onclick=\"$('.forexchart').hide();$('#Thai_baht').show();\" style=\"cursor:pointer;\">3.85</li>,\n",
       " <li class=\"col3\" onclick=\"$('.forexchart').hide();$('#UAE_Dirham').show();\" style=\"cursor:pointer;\">31.81</li>,\n",
       " <li class=\"col3\" onclick=\"$('.forexchart').hide();$('#Malaysian_ringgit').show();\" style=\"cursor:pointer;\">28.8</li>,\n",
       " <li class=\"col3\" onclick=\"$('.forexchart').hide();$('#Korean_Won_100').show();\" style=\"cursor:pointer;\">10.39</li>,\n",
       " <li class=\"col3\" onclick=\"$('.forexchart').hide();$('#Swedish_Krone').show();\" style=\"cursor:pointer;\">13.83</li>,\n",
       " <li class=\"col3\" onclick=\"$('.forexchart').hide();$('#Danish_Krone').show();\" style=\"cursor:pointer;\">18.92</li>,\n",
       " <li class=\"col3\" onclick=\"$('.forexchart').hide();$('#Hong_Kong_dollar').show();\" style=\"cursor:pointer;\">15.06</li>,\n",
       " <li class=\"col3\" onclick=\"$('.forexchart').hide();$('#Kuwaity_Dinar').show();\" style=\"cursor:pointer;\">386.11</li>,\n",
       " <li class=\"col3\" onclick=\"$('.forexchart').hide();$('#Bahrain_Dinar').show();\" style=\"cursor:pointer;\">309.82</li>]"
      ]
     },
     "execution_count": 6,
     "metadata": {},
     "output_type": "execute_result"
    }
   ],
   "source": [
    "table2 = soup.find_all(\"li\", \"col3\")\n",
    "table2"
   ]
  },
  {
   "cell_type": "code",
   "execution_count": 7,
   "metadata": {},
   "outputs": [
    {
     "data": {
      "text/plain": [
       "['Currency',\n",
       " 'Indian Rupee (100)',\n",
       " 'U.S. dollar',\n",
       " 'European euro',\n",
       " 'UK pound sterling',\n",
       " 'Swiss franc',\n",
       " 'Australian dollar',\n",
       " 'Canadian dollar',\n",
       " 'Singapore dollar',\n",
       " 'Japanese yen (10)',\n",
       " 'Chinese renminbi (Yuan)',\n",
       " 'Saudi Arabian riyal',\n",
       " 'Qatari riyal',\n",
       " 'Thai baht',\n",
       " 'UAE Dirham',\n",
       " 'Malaysian ringgit',\n",
       " 'Korean Won (100)',\n",
       " 'Swedish Krone',\n",
       " 'Danish Krone',\n",
       " 'Hong Kong dollar',\n",
       " 'Kuwaity Dinar',\n",
       " 'Bahrain Dinar']"
      ]
     },
     "execution_count": 7,
     "metadata": {},
     "output_type": "execute_result"
    }
   ],
   "source": [
    "data1 = []\n",
    "for i in table:\n",
    "    data1.append(i.text)\n",
    "data1"
   ]
  },
  {
   "cell_type": "code",
   "execution_count": 8,
   "metadata": {},
   "outputs": [
    {
     "data": {
      "text/plain": [
       "['Buy',\n",
       " '160',\n",
       " '116.24',\n",
       " '139.96',\n",
       " '161.95',\n",
       " '126.04',\n",
       " '90.35',\n",
       " '91.84',\n",
       " '87.24',\n",
       " '10.83',\n",
       " '17.97',\n",
       " '30.98',\n",
       " '31.92',\n",
       " '3.83',\n",
       " '31.65',\n",
       " '28.65',\n",
       " '10.33',\n",
       " '13.76',\n",
       " '18.82',\n",
       " '14.98',\n",
       " '384.12',\n",
       " '308.23']"
      ]
     },
     "execution_count": 8,
     "metadata": {},
     "output_type": "execute_result"
    }
   ],
   "source": [
    "data2 = []\n",
    "for i in table1:\n",
    "    data2.append(i.text)\n",
    "data2"
   ]
  },
  {
   "cell_type": "code",
   "execution_count": 9,
   "metadata": {},
   "outputs": [
    {
     "data": {
      "text/plain": [
       "['Sell',\n",
       " '160.15',\n",
       " '116.84',\n",
       " '140.69',\n",
       " '162.78',\n",
       " '126.69',\n",
       " '90.82',\n",
       " '92.31',\n",
       " '87.69',\n",
       " '10.89',\n",
       " '18.06',\n",
       " '31.14',\n",
       " '32.09',\n",
       " '3.85',\n",
       " '31.81',\n",
       " '28.8',\n",
       " '10.39',\n",
       " '13.83',\n",
       " '18.92',\n",
       " '15.06',\n",
       " '386.11',\n",
       " '309.82']"
      ]
     },
     "execution_count": 9,
     "metadata": {},
     "output_type": "execute_result"
    }
   ],
   "source": [
    "data3 = []\n",
    "for i in table2:\n",
    "    data3.append(i.text)\n",
    "data3"
   ]
  },
  {
   "cell_type": "code",
   "execution_count": 10,
   "metadata": {},
   "outputs": [
    {
     "data": {
      "text/plain": [
       "[['Currency',\n",
       "  'Indian Rupee (100)',\n",
       "  'U.S. dollar',\n",
       "  'European euro',\n",
       "  'UK pound sterling',\n",
       "  'Swiss franc',\n",
       "  'Australian dollar',\n",
       "  'Canadian dollar',\n",
       "  'Singapore dollar',\n",
       "  'Japanese yen (10)',\n",
       "  'Chinese renminbi (Yuan)',\n",
       "  'Saudi Arabian riyal',\n",
       "  'Qatari riyal',\n",
       "  'Thai baht',\n",
       "  'UAE Dirham',\n",
       "  'Malaysian ringgit',\n",
       "  'Korean Won (100)',\n",
       "  'Swedish Krone',\n",
       "  'Danish Krone',\n",
       "  'Hong Kong dollar',\n",
       "  'Kuwaity Dinar',\n",
       "  'Bahrain Dinar'],\n",
       " ['Buy',\n",
       "  '160',\n",
       "  '116.24',\n",
       "  '139.96',\n",
       "  '161.95',\n",
       "  '126.04',\n",
       "  '90.35',\n",
       "  '91.84',\n",
       "  '87.24',\n",
       "  '10.83',\n",
       "  '17.97',\n",
       "  '30.98',\n",
       "  '31.92',\n",
       "  '3.83',\n",
       "  '31.65',\n",
       "  '28.65',\n",
       "  '10.33',\n",
       "  '13.76',\n",
       "  '18.82',\n",
       "  '14.98',\n",
       "  '384.12',\n",
       "  '308.23'],\n",
       " ['Sell',\n",
       "  '160.15',\n",
       "  '116.84',\n",
       "  '140.69',\n",
       "  '162.78',\n",
       "  '126.69',\n",
       "  '90.82',\n",
       "  '92.31',\n",
       "  '87.69',\n",
       "  '10.89',\n",
       "  '18.06',\n",
       "  '31.14',\n",
       "  '32.09',\n",
       "  '3.85',\n",
       "  '31.81',\n",
       "  '28.8',\n",
       "  '10.39',\n",
       "  '13.83',\n",
       "  '18.92',\n",
       "  '15.06',\n",
       "  '386.11',\n",
       "  '309.82']]"
      ]
     },
     "execution_count": 10,
     "metadata": {},
     "output_type": "execute_result"
    }
   ],
   "source": [
    "data = []\n",
    "data.append(data1)\n",
    "data.append(data2)\n",
    "data.append(data3)\n",
    "data"
   ]
  },
  {
   "cell_type": "code",
   "execution_count": 11,
   "metadata": {},
   "outputs": [
    {
     "data": {
      "text/plain": [
       "[['Currency', 'Buy', 'Sell'],\n",
       " ['Indian Rupee (100)', '160', '160.15'],\n",
       " ['U.S. dollar', '116.24', '116.84'],\n",
       " ['European euro', '139.96', '140.69'],\n",
       " ['UK pound sterling', '161.95', '162.78'],\n",
       " ['Swiss franc', '126.04', '126.69'],\n",
       " ['Australian dollar', '90.35', '90.82'],\n",
       " ['Canadian dollar', '91.84', '92.31'],\n",
       " ['Singapore dollar', '87.24', '87.69'],\n",
       " ['Japanese yen (10)', '10.83', '10.89'],\n",
       " ['Chinese renminbi (Yuan)', '17.97', '18.06'],\n",
       " ['Saudi Arabian riyal', '30.98', '31.14'],\n",
       " ['Qatari riyal', '31.92', '32.09'],\n",
       " ['Thai baht', '3.83', '3.85'],\n",
       " ['UAE Dirham', '31.65', '31.81'],\n",
       " ['Malaysian ringgit', '28.65', '28.8'],\n",
       " ['Korean Won (100)', '10.33', '10.39'],\n",
       " ['Swedish Krone', '13.76', '13.83'],\n",
       " ['Danish Krone', '18.82', '18.92'],\n",
       " ['Hong Kong dollar', '14.98', '15.06'],\n",
       " ['Kuwaity Dinar', '384.12', '386.11'],\n",
       " ['Bahrain Dinar', '308.23', '309.82']]"
      ]
     },
     "execution_count": 11,
     "metadata": {},
     "output_type": "execute_result"
    }
   ],
   "source": [
    "final_data = [[data[row][column] for row in range(len(data))] for column in range(len(data[0]))]\n",
    "final_output = []\n",
    "for data in final_data:\n",
    "    final_output.append(data)\n",
    "final_output"
   ]
  },
  {
   "cell_type": "code",
   "execution_count": 12,
   "metadata": {},
   "outputs": [],
   "source": [
    "import csv\n",
    "with open('currency.csv', 'w') as f:\n",
    "    x = csv.writer(f)\n",
    "    for i in final_output:\n",
    "        x.writerow(i)"
   ]
  },
  {
   "cell_type": "code",
   "execution_count": 13,
   "metadata": {},
   "outputs": [
    {
     "data": {
      "text/html": [
       "<div>\n",
       "<style scoped>\n",
       "    .dataframe tbody tr th:only-of-type {\n",
       "        vertical-align: middle;\n",
       "    }\n",
       "\n",
       "    .dataframe tbody tr th {\n",
       "        vertical-align: top;\n",
       "    }\n",
       "\n",
       "    .dataframe thead th {\n",
       "        text-align: right;\n",
       "    }\n",
       "</style>\n",
       "<table border=\"1\" class=\"dataframe\">\n",
       "  <thead>\n",
       "    <tr style=\"text-align: right;\">\n",
       "      <th></th>\n",
       "      <th>Currency</th>\n",
       "      <th>Buy</th>\n",
       "      <th>Sell</th>\n",
       "    </tr>\n",
       "  </thead>\n",
       "  <tbody>\n",
       "    <tr>\n",
       "      <th>0</th>\n",
       "      <td>Indian Rupee (100)</td>\n",
       "      <td>160.00</td>\n",
       "      <td>160.15</td>\n",
       "    </tr>\n",
       "    <tr>\n",
       "      <th>1</th>\n",
       "      <td>U.S. dollar</td>\n",
       "      <td>116.24</td>\n",
       "      <td>116.84</td>\n",
       "    </tr>\n",
       "    <tr>\n",
       "      <th>2</th>\n",
       "      <td>European euro</td>\n",
       "      <td>139.96</td>\n",
       "      <td>140.69</td>\n",
       "    </tr>\n",
       "    <tr>\n",
       "      <th>3</th>\n",
       "      <td>UK pound sterling</td>\n",
       "      <td>161.95</td>\n",
       "      <td>162.78</td>\n",
       "    </tr>\n",
       "    <tr>\n",
       "      <th>4</th>\n",
       "      <td>Swiss franc</td>\n",
       "      <td>126.04</td>\n",
       "      <td>126.69</td>\n",
       "    </tr>\n",
       "    <tr>\n",
       "      <th>5</th>\n",
       "      <td>Australian dollar</td>\n",
       "      <td>90.35</td>\n",
       "      <td>90.82</td>\n",
       "    </tr>\n",
       "    <tr>\n",
       "      <th>6</th>\n",
       "      <td>Canadian dollar</td>\n",
       "      <td>91.84</td>\n",
       "      <td>92.31</td>\n",
       "    </tr>\n",
       "    <tr>\n",
       "      <th>7</th>\n",
       "      <td>Singapore dollar</td>\n",
       "      <td>87.24</td>\n",
       "      <td>87.69</td>\n",
       "    </tr>\n",
       "    <tr>\n",
       "      <th>8</th>\n",
       "      <td>Japanese yen (10)</td>\n",
       "      <td>10.83</td>\n",
       "      <td>10.89</td>\n",
       "    </tr>\n",
       "    <tr>\n",
       "      <th>9</th>\n",
       "      <td>Chinese renminbi (Yuan)</td>\n",
       "      <td>17.97</td>\n",
       "      <td>18.06</td>\n",
       "    </tr>\n",
       "    <tr>\n",
       "      <th>10</th>\n",
       "      <td>Saudi Arabian riyal</td>\n",
       "      <td>30.98</td>\n",
       "      <td>31.14</td>\n",
       "    </tr>\n",
       "    <tr>\n",
       "      <th>11</th>\n",
       "      <td>Qatari riyal</td>\n",
       "      <td>31.92</td>\n",
       "      <td>32.09</td>\n",
       "    </tr>\n",
       "    <tr>\n",
       "      <th>12</th>\n",
       "      <td>Thai baht</td>\n",
       "      <td>3.83</td>\n",
       "      <td>3.85</td>\n",
       "    </tr>\n",
       "    <tr>\n",
       "      <th>13</th>\n",
       "      <td>UAE Dirham</td>\n",
       "      <td>31.65</td>\n",
       "      <td>31.81</td>\n",
       "    </tr>\n",
       "    <tr>\n",
       "      <th>14</th>\n",
       "      <td>Malaysian ringgit</td>\n",
       "      <td>28.65</td>\n",
       "      <td>28.80</td>\n",
       "    </tr>\n",
       "    <tr>\n",
       "      <th>15</th>\n",
       "      <td>Korean Won (100)</td>\n",
       "      <td>10.33</td>\n",
       "      <td>10.39</td>\n",
       "    </tr>\n",
       "    <tr>\n",
       "      <th>16</th>\n",
       "      <td>Swedish Krone</td>\n",
       "      <td>13.76</td>\n",
       "      <td>13.83</td>\n",
       "    </tr>\n",
       "    <tr>\n",
       "      <th>17</th>\n",
       "      <td>Danish Krone</td>\n",
       "      <td>18.82</td>\n",
       "      <td>18.92</td>\n",
       "    </tr>\n",
       "    <tr>\n",
       "      <th>18</th>\n",
       "      <td>Hong Kong dollar</td>\n",
       "      <td>14.98</td>\n",
       "      <td>15.06</td>\n",
       "    </tr>\n",
       "    <tr>\n",
       "      <th>19</th>\n",
       "      <td>Kuwaity Dinar</td>\n",
       "      <td>384.12</td>\n",
       "      <td>386.11</td>\n",
       "    </tr>\n",
       "    <tr>\n",
       "      <th>20</th>\n",
       "      <td>Bahrain Dinar</td>\n",
       "      <td>308.23</td>\n",
       "      <td>309.82</td>\n",
       "    </tr>\n",
       "  </tbody>\n",
       "</table>\n",
       "</div>"
      ],
      "text/plain": [
       "                   Currency     Buy    Sell\n",
       "0        Indian Rupee (100)  160.00  160.15\n",
       "1               U.S. dollar  116.24  116.84\n",
       "2             European euro  139.96  140.69\n",
       "3         UK pound sterling  161.95  162.78\n",
       "4               Swiss franc  126.04  126.69\n",
       "5         Australian dollar   90.35   90.82\n",
       "6           Canadian dollar   91.84   92.31\n",
       "7          Singapore dollar   87.24   87.69\n",
       "8         Japanese yen (10)   10.83   10.89\n",
       "9   Chinese renminbi (Yuan)   17.97   18.06\n",
       "10      Saudi Arabian riyal   30.98   31.14\n",
       "11             Qatari riyal   31.92   32.09\n",
       "12                Thai baht    3.83    3.85\n",
       "13               UAE Dirham   31.65   31.81\n",
       "14        Malaysian ringgit   28.65   28.80\n",
       "15         Korean Won (100)   10.33   10.39\n",
       "16            Swedish Krone   13.76   13.83\n",
       "17             Danish Krone   18.82   18.92\n",
       "18         Hong Kong dollar   14.98   15.06\n",
       "19            Kuwaity Dinar  384.12  386.11\n",
       "20            Bahrain Dinar  308.23  309.82"
      ]
     },
     "execution_count": 13,
     "metadata": {},
     "output_type": "execute_result"
    }
   ],
   "source": [
    "import pandas as pd\n",
    "df = pd.read_csv('currency.csv', encoding = 'latin1')\n",
    "df"
   ]
  },
  {
   "cell_type": "code",
   "execution_count": null,
   "metadata": {},
   "outputs": [],
   "source": []
  }
 ],
 "metadata": {
  "kernelspec": {
   "display_name": "Python 3",
   "language": "python",
   "name": "python3"
  },
  "language_info": {
   "codemirror_mode": {
    "name": "ipython",
    "version": 3
   },
   "file_extension": ".py",
   "mimetype": "text/x-python",
   "name": "python",
   "nbconvert_exporter": "python",
   "pygments_lexer": "ipython3",
   "version": "3.8.5"
  }
 },
 "nbformat": 4,
 "nbformat_minor": 4
}
